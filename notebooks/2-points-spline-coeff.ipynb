{
 "cells": [
  {
   "cell_type": "markdown",
   "id": "82e3781d-e023-4354-b52b-c9c57e368183",
   "metadata": {},
   "source": [
    "# Koeficienty kubického polynomu\n",
    "\n",
    "Symbolický výpočet koeficientů kubického splinu mezi 2 body. \n",
    "\n",
    "$$u(x) = Ax^3 + Bx^2 + Cx + D$$\n",
    "\n",
    "Neznámé jsou $A, B, C, D$, naopak známe hodnotu $u(x)$ a $u'(x)$ v krajních bodech."
   ]
  },
  {
   "cell_type": "code",
   "execution_count": 1,
   "id": "33190a31-8e9f-4e25-83ea-bcae8262fc4f",
   "metadata": {},
   "outputs": [],
   "source": [
    "import sympy as sp\n",
    "sp.init_printing()"
   ]
  },
  {
   "cell_type": "code",
   "execution_count": 32,
   "id": "b680f0c8-9742-4804-b2cd-69a96357e99b",
   "metadata": {},
   "outputs": [],
   "source": [
    "A,B,C,D = sp.symbols('A, B, C, D')\n",
    "x1,x2,u1,u2,u1d,u2d = sp.symbols('x1,x2,u1,u2,u1d,u2d')\n",
    "x = sp.symbols('x')\n",
    "\n",
    "eq1 = sp.Eq(A*x1**3 + B*x1**2 + C*x1 + D, u1)\n",
    "eq2 = sp.Eq(A*x2**3 + B*x2**2 + C*x2 + D, u2)\n",
    "eq3 = sp.Eq(3*A*x1**2 + 2*B*x1 + C, u1d)\n",
    "eq4 = sp.Eq(3*A*x2**2 + 2*B*x2 + C, u2d)"
   ]
  },
  {
   "cell_type": "code",
   "execution_count": 33,
   "id": "95cfc903-9112-4287-b3a4-f81dec54facc",
   "metadata": {},
   "outputs": [],
   "source": [
    "sol = sp.solve((eq1,eq2,eq3,eq4),(A,B,C, D))"
   ]
  },
  {
   "cell_type": "code",
   "execution_count": 34,
   "id": "af808f4c-4506-4522-983d-f17849ea159f",
   "metadata": {},
   "outputs": [
    {
     "data": {
      "image/png": "[encoded data removed]",
      "text/latex": [
       "$\\displaystyle \\left\\{ A : \\frac{- 2 u_{1} + u1d x_{1} - u1d x_{2} + 2 u_{2} + u2d x_{1} - u2d x_{2}}{x_{1}^{3} - 3 x_{1}^{2} x_{2} + 3 x_{1} x_{2}^{2} - x_{2}^{3}}, \\  B : \\frac{3 u_{1} x_{1} + 3 u_{1} x_{2} - u1d x_{1}^{2} - u1d x_{1} x_{2} + 2 u1d x_{2}^{2} - 3 u_{2} x_{1} - 3 u_{2} x_{2} - 2 u2d x_{1}^{2} + u2d x_{1} x_{2} + u2d x_{2}^{2}}{x_{1}^{3} - 3 x_{1}^{2} x_{2} + 3 x_{1} x_{2}^{2} - x_{2}^{3}}, \\  C : \\frac{- 6 u_{1} x_{1} x_{2} + 2 u1d x_{1}^{2} x_{2} - u1d x_{1} x_{2}^{2} - u1d x_{2}^{3} + 6 u_{2} x_{1} x_{2} + u2d x_{1}^{3} + u2d x_{1}^{2} x_{2} - 2 u2d x_{1} x_{2}^{2}}{x_{1}^{3} - 3 x_{1}^{2} x_{2} + 3 x_{1} x_{2}^{2} - x_{2}^{3}}, \\  D : \\frac{3 u_{1} x_{1} x_{2}^{2} - u_{1} x_{2}^{3} - u1d x_{1}^{2} x_{2}^{2} + u1d x_{1} x_{2}^{3} + u_{2} x_{1}^{3} - 3 u_{2} x_{1}^{2} x_{2} - u2d x_{1}^{3} x_{2} + u2d x_{1}^{2} x_{2}^{2}}{x_{1}^{3} - 3 x_{1}^{2} x_{2} + 3 x_{1} x_{2}^{2} - x_{2}^{3}}\\right\\}$"
      ],
      "text/plain": [
       "⎧                                                                                  2                       2                             \n",
       "⎪   -2⋅u₁ + u1d⋅x₁ - u1d⋅x₂ + 2⋅u₂ + u2d⋅x₁ - u2d⋅x₂     3⋅u₁⋅x₁ + 3⋅u₁⋅x₂ - u1d⋅x₁  - u1d⋅x₁⋅x₂ + 2⋅u1d⋅x₂  - 3⋅u₂⋅x₁ - 3⋅u₂⋅x₂ - 2⋅u2d⋅\n",
       "⎨A: ────────────────────────────────────────────────, B: ────────────────────────────────────────────────────────────────────────────────\n",
       "⎪             3       2             2     3                                                     3       2             2     3            \n",
       "⎩           x₁  - 3⋅x₁ ⋅x₂ + 3⋅x₁⋅x₂  - x₂                                                    x₁  - 3⋅x₁ ⋅x₂ + 3⋅x₁⋅x₂  - x₂             \n",
       "\n",
       "  2                     2                           2               2         3                      3         2                 2       \n",
       "x₁  + u2d⋅x₁⋅x₂ + u2d⋅x₂      -6⋅u₁⋅x₁⋅x₂ + 2⋅u1d⋅x₁ ⋅x₂ - u1d⋅x₁⋅x₂  - u1d⋅x₂  + 6⋅u₂⋅x₁⋅x₂ + u2d⋅x₁  + u2d⋅x₁ ⋅x₂ - 2⋅u2d⋅x₁⋅x₂      3⋅\n",
       "─────────────────────────, C: ────────────────────────────────────────────────────────────────────────────────────────────────────, D: ──\n",
       "                                                                  3       2             2     3                                          \n",
       "                                                                x₁  - 3⋅x₁ ⋅x₂ + 3⋅x₁⋅x₂  - x₂                                           \n",
       "\n",
       "        2        3         2   2            3        3          2            3            2   2⎫\n",
       "u₁⋅x₁⋅x₂  - u₁⋅x₂  - u1d⋅x₁ ⋅x₂  + u1d⋅x₁⋅x₂  + u₂⋅x₁  - 3⋅u₂⋅x₁ ⋅x₂ - u2d⋅x₁ ⋅x₂ + u2d⋅x₁ ⋅x₂ ⎪\n",
       "───────────────────────────────────────────────────────────────────────────────────────────────⎬\n",
       "                                 3       2             2     3                                 ⎪\n",
       "                               x₁  - 3⋅x₁ ⋅x₂ + 3⋅x₁⋅x₂  - x₂                                  ⎭"
      ]
     },
     "execution_count": 34,
     "metadata": {},
     "output_type": "execute_result"
    }
   ],
   "source": [
    "sol"
   ]
  },
  {
   "cell_type": "code",
   "execution_count": 5,
   "id": "a080479f-c165-4d89-9aff-c69c26bb3008",
   "metadata": {},
   "outputs": [],
   "source": [
    "X1 = 0.\n",
    "X2 = 1.0\n",
    "U1 = 0.\n",
    "U2 = 0.\n",
    "U1D = 1.\n",
    "U2D = -1.\n",
    "\n",
    "a = sol[A].subs([(x1,X1), (x2,X2), (u1,U1), (u2,U2), (u1d,U1D), (u2d,U2D)])\n",
    "b = sol[B].subs([(x1,X1), (x2,X2), (u1,U1), (u2,U2), (u1d,U1D), (u2d,U2D)])\n",
    "c = sol[C].subs([(x1,X1), (x2,X2), (u1,U1), (u2,U2), (u1d,U1D), (u2d,U2D)])\n",
    "d = sol[D].subs([(x1,X1), (x2,X2), (u1,U1), (u2,U2), (u1d,U1D), (u2d,U2D)])\n"
   ]
  },
  {
   "cell_type": "code",
   "execution_count": 6,
   "id": "994dd5c8-285b-4ebd-ab45-8c8418144848",
   "metadata": {},
   "outputs": [
    {
     "name": "stdout",
     "output_type": "stream",
     "text": [
      "A:0, B:-1.00000000000000, C:1.00000000000000, D:0.0\n"
     ]
    },
    {
     "data": {
      "image/png": "[encoded data removed]",
      "text/latex": [
       "$\\displaystyle - 1.0 x^{2} + 1.0 x$"
      ],
      "text/plain": [
       "   2        \n",
       "- x  + 1.0⋅x"
      ]
     },
     "metadata": {},
     "output_type": "display_data"
    }
   ],
   "source": [
    "print(f'A:{a}, B:{b}, C:{c}, D:{d}')\n",
    "spl = a*x**3 + b*x**2 + c*x + d\n",
    "display(spl)"
   ]
  },
  {
   "cell_type": "code",
   "execution_count": 7,
   "id": "b1600f51-d5a5-405a-a63b-33826a088e25",
   "metadata": {},
   "outputs": [
    {
     "data": {
      "image/png": "[encoded data removed]",
      "text/plain": [
       "<Figure size 432x288 with 1 Axes>"
      ]
     },
     "metadata": {
      "needs_background": "light"
     },
     "output_type": "display_data"
    },
    {
     "data": {
      "text/plain": [
       "<sympy.plotting.plot.Plot at 0x7fcbd0b67640>"
      ]
     },
     "execution_count": 7,
     "metadata": {},
     "output_type": "execute_result"
    }
   ],
   "source": [
    "sp.plotting.plot(spl, (x,X1,X2))"
   ]
  },
  {
   "cell_type": "markdown",
   "id": "55b40344-9cdc-430f-a2a8-90ec8e99a3af",
   "metadata": {},
   "source": [
    "### Koeficienty:\n",
    "\n",
    "#### Metoda 1\n",
    "$$ A = \\frac{- 2 u_{1} + u_1' x_{1} - u_1' x_{2} + 2 u_{2} + u_2' x_{1} - u_2' x_{2}}{x_{1}^{3} - 3 x_{1}^{2} x_{2} + 3 x_{1} x_{2}^{2} - x_{2}^{3}} $$\n",
    "\n",
    "\n",
    "$$ B = \\frac{3 u_{1} x_{1} + 3 u_{1} x_{2} - u_1' x_{1}^{2} - u_1' x_{1} x_{2} + 2 u_1' x_{2}^{2} - 3 u_{2} x_{1} - 3 u_{2} x_{2} - 2 u_2' x_{1}^{2} + u_2' x_{1} x_{2} + u_2' x_{2}^{2}}{x_{1}^{3} - 3 x_{1}^{2} x_{2} + 3 x_{1} x_{2}^{2} - x_{2}^{3}} $$\n",
    "\n",
    "\n",
    "$$ C = \\frac{- 6 u_{1} x_{1} x_{2} + 2 u_1' x_{1}^{2} x_{2} - u_1' x_{1} x_{2}^{2} - u_1' x_{2}^{3} + 6 u_{2} x_{1} x_{2} + u_2' x_{1}^{3} + u_2' x_{1}^{2} x_{2} - 2 u_2' x_{1} x_{2}^{2}}{x_{1}^{3} - 3 x_{1}^{2} x_{2} + 3 x_{1} x_{2}^{2} - x_{2}^{3}} $$\n",
    "\n",
    "\n",
    "$$ D = \\frac{3 u_{1} x_{1} x_{2}^{2} - u_{1} x_{2}^{3} - u_1' x_{1}^{2} x_{2}^{2} + u_1' x_{1} x_{2}^{3} + u_{2} x_{1}^{3} - 3 u_{2} x_{1}^{2} x_{2} - u_2' x_{1}^{3} x_{2} + u_2' x_{1}^{2} x_{2}^{2}}{x_{1}^{3} - 3 x_{1}^{2} x_{2} + 3 x_{1} x_{2}^{2} - x_{2}^{3}} $$\n",
    "\n",
    "nebo ve jmenovateli vždy:\n",
    "\n",
    "$$\\left(x_{1} - x_{2}\\right)^{3}$$\n",
    "\n",
    "\n",
    "\n",
    "\n",
    "#### Metoda 2\n",
    "$$ A = \\frac{- 2 u_{1} + u_1' x_{1} - u_1' x_{2} + 2 u_{2} + u_2' x_{1} - u_2' x_{2}}{x_{1}^{3} - 3 x_{1}^{2} x_{2} + 3 x_{1} x_{2}^{2} - x_{2}^{3}} $$\n",
    "\n",
    "nebo:\n",
    "\n",
    "$$ A = \\frac{- 2 u_{1} + u_1' x_{1} - u_1' x_{2} + 2 u_{2} + u_2' x_{1} - u_2' x_{2}}{\\left(x_{1} - x_{2}\\right)^{3}} $$\n",
    "\n",
    "\n",
    "\n",
    "\n",
    "$$ B = \\frac{u_2' - u_1' + 3A(x_1^2-x_2^2)}{2(x_2-x_1)} $$\n",
    "\n",
    "\n",
    "$$ C = u_1'-3Ax_1^2-2Bx_1 $$\n",
    "\n",
    "\n",
    "$$ D = u_1 -Ax_1^3 - Bx_1^2 - Cx_1 $$\n"
   ]
  },
  {
   "cell_type": "code",
   "execution_count": null,
   "id": "215707b2-fbd0-4662-9409-c0172d3b0eac",
   "metadata": {},
   "outputs": [],
   "source": []
  }
 ],
 "metadata": {
  "kernelspec": {
   "display_name": "Python 3 (ipykernel)",
   "language": "python",
   "name": "python3"
  },
  "language_info": {
   "codemirror_mode": {
    "name": "ipython",
    "version": 3
   },
   "file_extension": ".py",
   "mimetype": "text/x-python",
   "name": "python",
   "nbconvert_exporter": "python",
   "pygments_lexer": "ipython3",
   "version": "3.8.2"
  }
 },
 "nbformat": 4,
 "nbformat_minor": 5
}
